{
 "cells": [
  {
   "cell_type": "code",
   "execution_count": 1,
   "id": "92ca3ee2",
   "metadata": {
    "_cell_guid": "b1076dfc-b9ad-4769-8c92-a6c4dae69d19",
    "_uuid": "8f2839f25d086af736a60e9eeb907d3b93b6e0e5",
    "execution": {
     "iopub.execute_input": "2023-01-07T05:58:25.819612Z",
     "iopub.status.busy": "2023-01-07T05:58:25.819004Z",
     "iopub.status.idle": "2023-01-07T05:58:25.837565Z",
     "shell.execute_reply": "2023-01-07T05:58:25.836718Z"
    },
    "papermill": {
     "duration": 0.025529,
     "end_time": "2023-01-07T05:58:25.839947",
     "exception": false,
     "start_time": "2023-01-07T05:58:25.814418",
     "status": "completed"
    },
    "tags": []
   },
   "outputs": [
    {
     "name": "stdout",
     "output_type": "stream",
     "text": [
      "/kaggle/input/training2/train_data.csv\n",
      "/kaggle/input/training2/test_data.csv\n",
      "/kaggle/input/marketing-strategy-personalised-offer/sample.csv\n",
      "/kaggle/input/marketing-strategy-personalised-offer/train_data.csv\n",
      "/kaggle/input/marketing-strategy-personalised-offer/test_data.csv\n"
     ]
    }
   ],
   "source": [
    "# This Python 3 environment comes with many helpful analytics libraries installed\n",
    "# It is defined by the kaggle/python Docker image: https://github.com/kaggle/docker-python\n",
    "# For example, here's several helpful packages to load\n",
    "\n",
    "import numpy as np # linear algebra\n",
    "import pandas as pd # data processing, CSV file I/O (e.g. pd.read_csv)\n",
    "\n",
    "# Input data files are available in the read-only \"../input/\" directory\n",
    "# For example, running this (by clicking run or pressing Shift+Enter) will list all files under the input directory\n",
    "\n",
    "import os\n",
    "for dirname, _, filenames in os.walk('/kaggle/input'):\n",
    "    for filename in filenames:\n",
    "        print(os.path.join(dirname, filename))\n",
    "\n",
    "# You can write up to 20GB to the current directory (/kaggle/working/) that gets preserved as output when you create a version using \"Save & Run All\" \n",
    "# You can also write temporary files to /kaggle/temp/, but they won't be saved outside of the current session"
   ]
  },
  {
   "cell_type": "code",
   "execution_count": 2,
   "id": "afbd6049",
   "metadata": {
    "execution": {
     "iopub.execute_input": "2023-01-07T05:58:25.845473Z",
     "iopub.status.busy": "2023-01-07T05:58:25.844510Z",
     "iopub.status.idle": "2023-01-07T05:58:27.717307Z",
     "shell.execute_reply": "2023-01-07T05:58:27.715643Z"
    },
    "papermill": {
     "duration": 1.8798,
     "end_time": "2023-01-07T05:58:27.721724",
     "exception": false,
     "start_time": "2023-01-07T05:58:25.841924",
     "status": "completed"
    },
    "tags": []
   },
   "outputs": [],
   "source": [
    "import pandas as pd\n",
    "import numpy as np\n",
    "import sklearn\n",
    "import array\n",
    "np.random.seed(42)\n",
    "from sklearn.metrics import precision_score , accuracy_score\n",
    "from sklearn.metrics import f1_score\n",
    "from sklearn.preprocessing import MinMaxScaler\n",
    "from sklearn.pipeline import make_pipeline\n",
    "from sklearn.linear_model import RidgeClassifier,LogisticRegression\n",
    "from sklearn.metrics import log_loss\n",
    "l=pd.read_csv('/kaggle/input/training2/train_data.csv')\n",
    "l=l.drop(['car'],axis=1)\n",
    "l=l.dropna()\n",
    "l = pd.get_dummies(l, columns=['offer expiration','income_range','Restaur_spend_less_than20','age','no_visited_Cold drinks','Marital Status','restaurant type','no_visited_bars','gender','Customer type','Qualification','no_Take-aways','Job/Job Industry','Restaur_spend_greater_than20','Climate','drop location'], drop_first=True)\n",
    "l.head()\n",
    "from sklearn.preprocessing import LabelEncoder\n",
    "y=l['Offer Accepted']\n",
    "p=pd.read_csv('/kaggle/input/training2/test_data.csv')\n",
    "x=l.drop(['Offer Accepted'],axis=1)\n",
    "X=x.to_numpy()\n",
    "p=p.drop(['car'],axis=1)\n",
    "p = pd.get_dummies(p, columns=['offer expiration','income_range','Restaur_spend_less_than20','age','no_visited_Cold drinks','Marital Status','restaurant type','no_visited_bars','gender','Customer type','Qualification','no_Take-aways','Job/Job Industry','Restaur_spend_greater_than20','Climate','drop location'], drop_first=True)\n",
    "grid_Cs=[0,1e-4,1e-3,1e-2,1e-1,1.0,10.0,100]\n",
    "scaler=MinMaxScaler()\n",
    "logreg= LogisticRegression(C=1,random_state=1729)\n",
    "pipe_logit= make_pipeline(MinMaxScaler(),LogisticRegression(random_state=1729,max_iter=1000,solver='lbfgs',C=np.infty,))\n",
    "X_test=p.to_numpy()\n",
    "pipe_logit.fit(X,y)\n",
    "y3=pipe_logit.predict(X_test)\n",
    "c=list(range(0,5305))\n",
    "y3=list(y3)\n",
    "df = pd.DataFrame(y3, columns=['Offer Accepted'])\n",
    "df1= pd.DataFrame(c,columns=['id'])\n",
    "df2=df1.join(df)\n",
    "df2.to_csv('mycsvfile.csv',index=False)"
   ]
  }
 ],
 "metadata": {
  "kernelspec": {
   "display_name": "Python 3",
   "language": "python",
   "name": "python3"
  },
  "language_info": {
   "codemirror_mode": {
    "name": "ipython",
    "version": 3
   },
   "file_extension": ".py",
   "mimetype": "text/x-python",
   "name": "python",
   "nbconvert_exporter": "python",
   "pygments_lexer": "ipython3",
   "version": "3.7.12"
  },
  "papermill": {
   "default_parameters": {},
   "duration": 11.218889,
   "end_time": "2023-01-07T05:58:28.451315",
   "environment_variables": {},
   "exception": null,
   "input_path": "__notebook__.ipynb",
   "output_path": "__notebook__.ipynb",
   "parameters": {},
   "start_time": "2023-01-07T05:58:17.232426",
   "version": "2.3.4"
  }
 },
 "nbformat": 4,
 "nbformat_minor": 5
}
